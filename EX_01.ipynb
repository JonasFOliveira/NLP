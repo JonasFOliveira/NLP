{
 "cells": [
  {
   "cell_type": "markdown",
   "metadata": {},
   "source": [
    "Universidade Federal da Paraíba - Centro de Informática\n",
    "\n",
    "Alunos: Vinícius Vieri - 20210027364, Jonas Felipe - 20210026948 <br>\n",
    "\n",
    "Exercício 1 - Processamento de Linguagem Natural\n"
   ]
  },
  {
   "cell_type": "markdown",
   "metadata": {},
   "source": [
    "# 0 - Imports"
   ]
  },
  {
   "cell_type": "code",
   "execution_count": 23,
   "metadata": {},
   "outputs": [],
   "source": [
    "import os\n",
    "import re\n",
    "from collections import Counter\n",
    "import random as rd"
   ]
  },
  {
   "cell_type": "markdown",
   "metadata": {},
   "source": [
    "# 1 - Extract"
   ]
  },
  {
   "cell_type": "code",
   "execution_count": 15,
   "metadata": {},
   "outputs": [],
   "source": [
    "# path_list_azevedo = r'./livros_txt/aluisio'\n",
    "\n",
    "# list_books_azevedo = os.listdir(path_list_azevedo)\n",
    "\n",
    "# list_books_azevedo_txt = []\n",
    "# for book in list_books_azevedo:\n",
    "#     with open(f'{path_list_azevedo}/{book}', 'r', encoding='utf-8') as file:\n",
    "#         text = file.read()\n",
    "#         text = text.replace('\\n', ' ')  #remove \\n\n",
    "#         text = text.replace('\\xad', '-') #remove \\xad (que é um hífen quebrado)\n",
    "#         text = re.sub(r'\\s+\\s+',f'\\n',text) #transforma muitos espaços em uma quebra de linha => '        ABC' -> '\\nABC'\n",
    "#         list_books_azevedo_txt.append(text)\n",
    "\n",
    "# out_text = '\\n'.join(list_books_azevedo_txt)\n",
    "# with open('./data/aluisio_azevedo.txt', 'w', encoding='utf-8') as file:\n",
    "#     file.write(out_text)"
   ]
  },
  {
   "cell_type": "markdown",
   "metadata": {},
   "source": [
    "# 2 - Trigrams"
   ]
  },
  {
   "cell_type": "code",
   "execution_count": 16,
   "metadata": {},
   "outputs": [
    {
     "name": "stdout",
     "output_type": "stream",
     "text": [
      " a condessa vésper aluízio azevedo as memórias de um condenado uma noite, trabalhava eu no silêncio \n"
     ]
    }
   ],
   "source": [
    "with open('./data/aluisio_azevedo.txt', 'r', encoding='utf-8') as file:\n",
    "    text = file.read()\n",
    "    text = text.lower()\n",
    "\n",
    "print(text[:100])"
   ]
  },
  {
   "cell_type": "code",
   "execution_count": 17,
   "metadata": {},
   "outputs": [],
   "source": [
    "regex = r'\\w+|[?!\\.\\-,;:()\"\\']+' # regex para separar palavras ou pontuação\n",
    "words = re.findall(regex, text)\n",
    "# words[:100]"
   ]
  },
  {
   "cell_type": "code",
   "execution_count": 18,
   "metadata": {},
   "outputs": [
    {
     "data": {
      "text/plain": [
       "[(',', 109086),\n",
       " ('.', 47078),\n",
       " ('de', 47050),\n",
       " ('a', 43164),\n",
       " ('e', 41438),\n",
       " ('o', 41088),\n",
       " ('que', 36366),\n",
       " ('-', 31852),\n",
       " ('!', 23754),\n",
       " ('se', 22976)]"
      ]
     },
     "execution_count": 18,
     "metadata": {},
     "output_type": "execute_result"
    }
   ],
   "source": [
    "counts_w = Counter(words) # conta a frequência de cada palavra\n",
    "counts_w.most_common(10) # as 10 palavras mais comuns"
   ]
  },
  {
   "cell_type": "code",
   "execution_count": 19,
   "metadata": {},
   "outputs": [],
   "source": [
    "def prob_words(word :  str):\n",
    "    return counts_w[word] / len(words)"
   ]
  },
  {
   "cell_type": "code",
   "execution_count": 24,
   "metadata": {},
   "outputs": [],
   "source": [
    "trigrams = []\n",
    "for i in range(len(words)-2):\n",
    "    trigrams.append((words[i], words[i+1], words[i+2]))\n",
    "\n",
    "trigrams_counts = Counter(trigrams)"
   ]
  },
  {
   "cell_type": "code",
   "execution_count": 29,
   "metadata": {},
   "outputs": [],
   "source": [
    "def prob_trigrams(w1, w2, w3):\n",
    "    return trigrams_counts[(w1, w2, w3)] / counts_w[w1]"
   ]
  },
  {
   "cell_type": "code",
   "execution_count": 53,
   "metadata": {},
   "outputs": [],
   "source": [
    "def generate_text(INPUT, seed : int = None, n_words : int = 100):\n",
    "    if seed is not None:\n",
    "        rd.seed(seed)\n",
    "    text = INPUT.split()\n",
    "    all_words = list(counts_w.keys())\n",
    "    \n",
    "    for i in range(n_words):\n",
    "        all_weigths = [prob_trigrams(text[-2], text[-1], w3) for w3 in all_words]\n",
    "        \n",
    "        next_word = rd.choices(all_words, all_weigths)[0]\n",
    "        text.append(next_word)\n",
    "    return ' '.join(text)"
   ]
  },
  {
   "cell_type": "code",
   "execution_count": 55,
   "metadata": {},
   "outputs": [],
   "source": [
    "print(generate_text('a criança'))"
   ]
  }
 ],
 "metadata": {
  "kernelspec": {
   "display_name": "Python 3",
   "language": "python",
   "name": "python3"
  },
  "language_info": {
   "codemirror_mode": {
    "name": "ipython",
    "version": 3
   },
   "file_extension": ".py",
   "mimetype": "text/x-python",
   "name": "python",
   "nbconvert_exporter": "python",
   "pygments_lexer": "ipython3",
   "version": "3.12.0"
  }
 },
 "nbformat": 4,
 "nbformat_minor": 2
}
