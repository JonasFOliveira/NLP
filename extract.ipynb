{
 "cells": [
  {
   "cell_type": "code",
   "execution_count": 15,
   "metadata": {},
   "outputs": [],
   "source": [
    "import pandas as pd\n",
    "import os\n",
    "import re"
   ]
  },
  {
   "cell_type": "code",
   "execution_count": 27,
   "metadata": {},
   "outputs": [],
   "source": [
    "path_list_azevedo = r'./livros_txt/aluisio'\n",
    "\n",
    "list_books_azevedo = os.listdir(path_list_azevedo)\n",
    "\n",
    "list_books_azevedo_txt = []\n",
    "for book in list_books_azevedo:\n",
    "    with open(f'{path_list_azevedo}/{book}', 'r', encoding='utf-8') as file:\n",
    "        text = file.read()\n",
    "        text = text.replace('\\n', ' ')  #remove \\n\n",
    "        text = text.replace('\\xad', '-') #remove \\xad (que é um hífen quebrado)\n",
    "        text = re.sub(r'\\s+\\s+',f'\\n',text) #transforma muitos espaços em uma quebra de linha => '        ABC' -> '\\nABC'\n",
    "        list_books_azevedo_txt.append(text)\n",
    "\n",
    "out_text = '\\n'.join(list_books_azevedo_txt)\n",
    "with open('./data/aluisio_azevedo.txt', 'w', encoding='utf-8') as file:\n",
    "    file.write(out_text)"
   ]
  }
 ],
 "metadata": {
  "kernelspec": {
   "display_name": "Python 3",
   "language": "python",
   "name": "python3"
  },
  "language_info": {
   "codemirror_mode": {
    "name": "ipython",
    "version": 3
   },
   "file_extension": ".py",
   "mimetype": "text/x-python",
   "name": "python",
   "nbconvert_exporter": "python",
   "pygments_lexer": "ipython3",
   "version": "3.12.0"
  }
 },
 "nbformat": 4,
 "nbformat_minor": 2
}
